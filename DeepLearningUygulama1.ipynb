{
  "nbformat": 4,
  "nbformat_minor": 0,
  "metadata": {
    "colab": {
      "provenance": [],
      "mount_file_id": "18j5EvuO-bRw0iFAdODr5ZS4ZuFR_GC70",
      "authorship_tag": "ABX9TyP0ihFH0DueoLzRwSbKzd9C",
      "include_colab_link": true
    },
    "kernelspec": {
      "name": "python3",
      "display_name": "Python 3"
    },
    "language_info": {
      "name": "python"
    }
  },
  "cells": [
    {
      "cell_type": "markdown",
      "metadata": {
        "id": "view-in-github",
        "colab_type": "text"
      },
      "source": [
        "<a href=\"https://colab.research.google.com/github/hafizecim/DeepLearningProjects/blob/main/DeepLearningUygulama1.ipynb\" target=\"_parent\"><img src=\"https://colab.research.google.com/assets/colab-badge.svg\" alt=\"Open In Colab\"/></a>"
      ]
    },
    {
      "cell_type": "code",
      "execution_count": null,
      "metadata": {
        "id": "geQYPDZf_PbM"
      },
      "outputs": [],
      "source": []
    },
    {
      "cell_type": "markdown",
      "source": [
        "## **Ders 2- Uygulama 1**\n",
        "1. derste TM ile oluşturlan model kullanılacaktır. Ayrıntılı bilgi için 1. dersin kayıtlarını izleyebilirsiniz.\n",
        "\n",
        "\n",
        "*   [Sınıf etiketleri dosyası](https://drive.google.com/drive/folders/1YYH1TyO2Og2T3mooPaoYswTtrfbLBP3H?usp=drive_link)\n",
        "*   [Model dosyası](https://drive.google.com/file/d/1VrxX5CrlqfGgB1lRZUy-7s3t6N0tHE0x/view?usp=drive_link)"
      ],
      "metadata": {
        "id": "jzafHWYxADKf"
      }
    },
    {
      "cell_type": "markdown",
      "source": [
        "Normalde TensorFlow kütüphanesi yüklü gelir.<br>\n",
        "TM de oluşturulan modeller **Tensorflow 2.12** versiyonunu destekliyor.<br>\n",
        "Bu yüzden uygun veriyonu yüklemeliyiz."
      ],
      "metadata": {
        "id": "8rMCspONBfQh"
      }
    },
    {
      "cell_type": "code",
      "source": [
        "# @title Default title text\n",
        "import tensorflow as tf\n",
        "print (tf.__version__)"
      ],
      "metadata": {
        "colab": {
          "base_uri": "https://localhost:8080/"
        },
        "id": "PGxCSeMeGt35",
        "outputId": "1d5f5213-2afc-4843-a810-973f15969759"
      },
      "execution_count": null,
      "outputs": [
        {
          "output_type": "stream",
          "name": "stdout",
          "text": [
            "2.12.0\n"
          ]
        }
      ]
    },
    {
      "cell_type": "markdown",
      "source": [],
      "metadata": {
        "id": "6oGRd64SIBcT"
      }
    },
    {
      "cell_type": "markdown",
      "source": [
        "### **Uygun TF versiyonunu yüklenmesi**"
      ],
      "metadata": {
        "id": "DSQ-d1m9YEzO"
      }
    },
    {
      "cell_type": "code",
      "source": [
        "!pip install tensorflow==2.12.0"
      ],
      "metadata": {
        "colab": {
          "base_uri": "https://localhost:8080/"
        },
        "collapsed": true,
        "id": "ns7n2msyIXCu",
        "outputId": "a1395f74-ac3a-4856-f5d9-be33e740445c"
      },
      "execution_count": null,
      "outputs": [
        {
          "output_type": "stream",
          "name": "stdout",
          "text": [
            "Requirement already satisfied: tensorflow==2.12.0 in /usr/local/lib/python3.11/dist-packages (2.12.0)\n",
            "Requirement already satisfied: absl-py>=1.0.0 in /usr/local/lib/python3.11/dist-packages (from tensorflow==2.12.0) (1.4.0)\n",
            "Requirement already satisfied: astunparse>=1.6.0 in /usr/local/lib/python3.11/dist-packages (from tensorflow==2.12.0) (1.6.3)\n",
            "Requirement already satisfied: flatbuffers>=2.0 in /usr/local/lib/python3.11/dist-packages (from tensorflow==2.12.0) (25.2.10)\n",
            "Requirement already satisfied: gast<=0.4.0,>=0.2.1 in /usr/local/lib/python3.11/dist-packages (from tensorflow==2.12.0) (0.4.0)\n",
            "Requirement already satisfied: google-pasta>=0.1.1 in /usr/local/lib/python3.11/dist-packages (from tensorflow==2.12.0) (0.2.0)\n",
            "Requirement already satisfied: grpcio<2.0,>=1.24.3 in /usr/local/lib/python3.11/dist-packages (from tensorflow==2.12.0) (1.70.0)\n",
            "Requirement already satisfied: h5py>=2.9.0 in /usr/local/lib/python3.11/dist-packages (from tensorflow==2.12.0) (3.12.1)\n",
            "Requirement already satisfied: jax>=0.3.15 in /usr/local/lib/python3.11/dist-packages (from tensorflow==2.12.0) (0.4.30)\n",
            "Requirement already satisfied: keras<2.13,>=2.12.0 in /usr/local/lib/python3.11/dist-packages (from tensorflow==2.12.0) (2.12.0)\n",
            "Requirement already satisfied: libclang>=13.0.0 in /usr/local/lib/python3.11/dist-packages (from tensorflow==2.12.0) (18.1.1)\n",
            "Requirement already satisfied: numpy<1.24,>=1.22 in /usr/local/lib/python3.11/dist-packages (from tensorflow==2.12.0) (1.23.5)\n",
            "Requirement already satisfied: opt-einsum>=2.3.2 in /usr/local/lib/python3.11/dist-packages (from tensorflow==2.12.0) (3.4.0)\n",
            "Requirement already satisfied: packaging in /usr/local/lib/python3.11/dist-packages (from tensorflow==2.12.0) (24.2)\n",
            "Requirement already satisfied: protobuf!=4.21.0,!=4.21.1,!=4.21.2,!=4.21.3,!=4.21.4,!=4.21.5,<5.0.0dev,>=3.20.3 in /usr/local/lib/python3.11/dist-packages (from tensorflow==2.12.0) (4.25.6)\n",
            "Requirement already satisfied: setuptools in /usr/local/lib/python3.11/dist-packages (from tensorflow==2.12.0) (75.1.0)\n",
            "Requirement already satisfied: six>=1.12.0 in /usr/local/lib/python3.11/dist-packages (from tensorflow==2.12.0) (1.17.0)\n",
            "Requirement already satisfied: tensorboard<2.13,>=2.12 in /usr/local/lib/python3.11/dist-packages (from tensorflow==2.12.0) (2.12.3)\n",
            "Requirement already satisfied: tensorflow-estimator<2.13,>=2.12.0 in /usr/local/lib/python3.11/dist-packages (from tensorflow==2.12.0) (2.12.0)\n",
            "Requirement already satisfied: termcolor>=1.1.0 in /usr/local/lib/python3.11/dist-packages (from tensorflow==2.12.0) (2.5.0)\n",
            "Requirement already satisfied: typing-extensions>=3.6.6 in /usr/local/lib/python3.11/dist-packages (from tensorflow==2.12.0) (4.12.2)\n",
            "Requirement already satisfied: wrapt<1.15,>=1.11.0 in /usr/local/lib/python3.11/dist-packages (from tensorflow==2.12.0) (1.14.1)\n",
            "Requirement already satisfied: tensorflow-io-gcs-filesystem>=0.23.1 in /usr/local/lib/python3.11/dist-packages (from tensorflow==2.12.0) (0.37.1)\n",
            "Requirement already satisfied: wheel<1.0,>=0.23.0 in /usr/local/lib/python3.11/dist-packages (from astunparse>=1.6.0->tensorflow==2.12.0) (0.45.1)\n",
            "Requirement already satisfied: jaxlib<=0.4.30,>=0.4.27 in /usr/local/lib/python3.11/dist-packages (from jax>=0.3.15->tensorflow==2.12.0) (0.4.30)\n",
            "Requirement already satisfied: ml-dtypes>=0.2.0 in /usr/local/lib/python3.11/dist-packages (from jax>=0.3.15->tensorflow==2.12.0) (0.4.1)\n",
            "Requirement already satisfied: scipy>=1.9 in /usr/local/lib/python3.11/dist-packages (from jax>=0.3.15->tensorflow==2.12.0) (1.13.1)\n",
            "Requirement already satisfied: google-auth<3,>=1.6.3 in /usr/local/lib/python3.11/dist-packages (from tensorboard<2.13,>=2.12->tensorflow==2.12.0) (2.38.0)\n",
            "Requirement already satisfied: google-auth-oauthlib<1.1,>=0.5 in /usr/local/lib/python3.11/dist-packages (from tensorboard<2.13,>=2.12->tensorflow==2.12.0) (1.0.0)\n",
            "Requirement already satisfied: markdown>=2.6.8 in /usr/local/lib/python3.11/dist-packages (from tensorboard<2.13,>=2.12->tensorflow==2.12.0) (3.7)\n",
            "Requirement already satisfied: requests<3,>=2.21.0 in /usr/local/lib/python3.11/dist-packages (from tensorboard<2.13,>=2.12->tensorflow==2.12.0) (2.32.3)\n",
            "Requirement already satisfied: tensorboard-data-server<0.8.0,>=0.7.0 in /usr/local/lib/python3.11/dist-packages (from tensorboard<2.13,>=2.12->tensorflow==2.12.0) (0.7.2)\n",
            "Requirement already satisfied: werkzeug>=1.0.1 in /usr/local/lib/python3.11/dist-packages (from tensorboard<2.13,>=2.12->tensorflow==2.12.0) (3.1.3)\n",
            "Requirement already satisfied: cachetools<6.0,>=2.0.0 in /usr/local/lib/python3.11/dist-packages (from google-auth<3,>=1.6.3->tensorboard<2.13,>=2.12->tensorflow==2.12.0) (5.5.2)\n",
            "Requirement already satisfied: pyasn1-modules>=0.2.1 in /usr/local/lib/python3.11/dist-packages (from google-auth<3,>=1.6.3->tensorboard<2.13,>=2.12->tensorflow==2.12.0) (0.4.1)\n",
            "Requirement already satisfied: rsa<5,>=3.1.4 in /usr/local/lib/python3.11/dist-packages (from google-auth<3,>=1.6.3->tensorboard<2.13,>=2.12->tensorflow==2.12.0) (4.9)\n",
            "Requirement already satisfied: requests-oauthlib>=0.7.0 in /usr/local/lib/python3.11/dist-packages (from google-auth-oauthlib<1.1,>=0.5->tensorboard<2.13,>=2.12->tensorflow==2.12.0) (2.0.0)\n",
            "Requirement already satisfied: charset-normalizer<4,>=2 in /usr/local/lib/python3.11/dist-packages (from requests<3,>=2.21.0->tensorboard<2.13,>=2.12->tensorflow==2.12.0) (3.4.1)\n",
            "Requirement already satisfied: idna<4,>=2.5 in /usr/local/lib/python3.11/dist-packages (from requests<3,>=2.21.0->tensorboard<2.13,>=2.12->tensorflow==2.12.0) (3.10)\n",
            "Requirement already satisfied: urllib3<3,>=1.21.1 in /usr/local/lib/python3.11/dist-packages (from requests<3,>=2.21.0->tensorboard<2.13,>=2.12->tensorflow==2.12.0) (2.3.0)\n",
            "Requirement already satisfied: certifi>=2017.4.17 in /usr/local/lib/python3.11/dist-packages (from requests<3,>=2.21.0->tensorboard<2.13,>=2.12->tensorflow==2.12.0) (2025.1.31)\n",
            "Requirement already satisfied: MarkupSafe>=2.1.1 in /usr/local/lib/python3.11/dist-packages (from werkzeug>=1.0.1->tensorboard<2.13,>=2.12->tensorflow==2.12.0) (3.0.2)\n",
            "Requirement already satisfied: pyasn1<0.7.0,>=0.4.6 in /usr/local/lib/python3.11/dist-packages (from pyasn1-modules>=0.2.1->google-auth<3,>=1.6.3->tensorboard<2.13,>=2.12->tensorflow==2.12.0) (0.6.1)\n",
            "Requirement already satisfied: oauthlib>=3.0.0 in /usr/local/lib/python3.11/dist-packages (from requests-oauthlib>=0.7.0->google-auth-oauthlib<1.1,>=0.5->tensorboard<2.13,>=2.12->tensorflow==2.12.0) (3.2.2)\n"
          ]
        }
      ]
    },
    {
      "cell_type": "code",
      "source": [
        "print('Versiyon kontrol:',tf.__version__)"
      ],
      "metadata": {
        "colab": {
          "base_uri": "https://localhost:8080/"
        },
        "id": "76sbdY9AJEIV",
        "outputId": "aa064710-2bd2-4466-879b-8b00cd6e9234"
      },
      "execution_count": null,
      "outputs": [
        {
          "output_type": "stream",
          "name": "stdout",
          "text": [
            "Versiyon kontrol: 2.12.0\n"
          ]
        }
      ]
    },
    {
      "cell_type": "code",
      "source": [
        "MODEL_PATH=r\"/content/drive/MyDrive/Colab Notebooks/TechIstDeepLearning/keras_model.h5\"\n", #dosya yolunu değiştirniz
        "LABEL_PATH=r\"/content/drive/MyDrive/Colab Notebooks/TechIstDeepLearning/labels.txt\"\n",
        "TEST_PATH=r\"/content/drive/MyDrive/Colab Notebooks/TechIstDeepLearning/test\""
      ],
      "metadata": {
        "id": "wQZwKngbJaIZ"
      },
      "execution_count": null,
      "outputs": []
    },
    {
      "cell_type": "markdown",
      "source": [
        "### **Kütüphanelerin Yüklenmesi**"
      ],
      "metadata": {
        "id": "lg2asEdZdpMD"
      }
    },
    {
      "cell_type": "code",
      "source": [
        "from keras.models import load_model\n",
        "from PIL import Image,ImageOps\n",
        "import numpy as np"
      ],
      "metadata": {
        "id": "95QVck4LJ4pU"
      },
      "execution_count": null,
      "outputs": []
    },
    {
      "cell_type": "code",
      "source": [
        "print (\"Keras versiyonu:\", tf.keras.__version__)"
      ],
      "metadata": {
        "colab": {
          "base_uri": "https://localhost:8080/"
        },
        "id": "sHz7gkCrKKCL",
        "outputId": "59ccd4b7-7249-48e8-f50d-d80cf0f2491b"
      },
      "execution_count": null,
      "outputs": [
        {
          "output_type": "stream",
          "name": "stdout",
          "text": [
            "Keras versiyonu: 2.12.0\n"
          ]
        }
      ]
    },
    {
      "cell_type": "markdown",
      "source": [
        "### **Ayarların yapılması**"
      ],
      "metadata": {
        "id": "sLJaQODLjKgE"
      }
    },
    {
      "cell_type": "code",
      "source": [
        "#Bilimsel gösterimi kapat\n",
        "np.set_printoptions(suppress=True)"
      ],
      "metadata": {
        "id": "zpmgMwTDKRIS"
      },
      "execution_count": null,
      "outputs": []
    },
    {
      "cell_type": "code",
      "source": [
        "#Uyarı mesajlarının kapatılması\n",
        "import warnings\n",
        "warnings.filterwarnings('ignore')"
      ],
      "metadata": {
        "id": "SYwE3ZD4KVpq"
      },
      "execution_count": null,
      "outputs": []
    },
    {
      "cell_type": "markdown",
      "source": [
        "### **Modelin Yüklenmesi**"
      ],
      "metadata": {
        "id": "CIvw1YvilaLu"
      }
    },
    {
      "cell_type": "code",
      "source": [
        "model=load_model(MODEL_PATH,compile=False)"
      ],
      "metadata": {
        "id": "FdHXQlLlKbTs"
      },
      "execution_count": null,
      "outputs": []
    },
    {
      "cell_type": "markdown",
      "source": [
        "### **Sınıf Etiketlerinin Yüklenmesi**"
      ],
      "metadata": {
        "id": "fd0JWdFVmKlV"
      }
    },
    {
      "cell_type": "code",
      "source": [
        "class_names=open(LABEL_PATH,\"r\").readlines()"
      ],
      "metadata": {
        "id": "KLtUHRnuKjcC"
      },
      "execution_count": null,
      "outputs": []
    },
    {
      "cell_type": "code",
      "source": [
        "class_names"
      ],
      "metadata": {
        "colab": {
          "base_uri": "https://localhost:8080/"
        },
        "id": "iHphu7Q7KpeY",
        "outputId": "85f4bca1-da11-4744-aec8-362233f7ef88"
      },
      "execution_count": null,
      "outputs": [
        {
          "output_type": "execute_result",
          "data": {
            "text/plain": [
              "['0 Aslan\\n', '1 Kaplan\\n', '2 Kedi\\n']"
            ]
          },
          "metadata": {},
          "execution_count": 13
        }
      ]
    },
    {
      "cell_type": "markdown",
      "source": [
        "### **Görsel ön işleme ve tahmin**"
      ],
      "metadata": {
        "id": "55yFYyorvne6"
      }
    },
    {
      "cell_type": "code",
      "source": [
        "    image_path=r\"/content/test/aslan.jpg\"\n",
        "    data=np.ndarray(shape=(1,224,224,3),dtype=np.float32)\n",
        "    try:\n",
        "        image=Image.open(image_path).convert(\"RGB\")\n",
        "    except FileNotFoundError:\n",
        "        print (\"Dosya bulunamadı!\")\n",
        "    except Exception as e:\n",
        "        print(f\"resim açma işleminde hata:{e}\")\n",
        "    # boyutu ayarla\n",
        "    size=(224,224)\n",
        "    # resmin boyutunu küçültürken kullanılacak örnekleme algoritması\n",
        "    image=ImageOps.fit(image,size,Image.Resampling.LANCZOS)\n",
        "    # görseli sayı dizisine çevirelim\n",
        "    image_array=np.asarray(image)\n",
        "    # normalize ediliyor\n",
        "    normalized_image_array=(image_array.astype(np.float32)/127.5)-1\n",
        "    data[0]=normalized_image_array\n",
        "    # tahmin yapıluyor\n",
        "    prediction=model.predict(data)\n",
        "    print(\"Tahminler:\",prediction)\n",
        "    index=np.argmax(prediction)\n",
        "    class_name=class_names[index]\n",
        "    print(\"Class_name_ham\",class_name)\n",
        "    # güven skoru : confidence\n",
        "    confidence_score=prediction[0][index]\n",
        "    print(class_name[2:],confidence_score)"
      ],
      "metadata": {
        "colab": {
          "base_uri": "https://localhost:8080/"
        },
        "id": "PZPzjc8M0YIT",
        "outputId": "e8444581-5050-40c0-f840-21c930bcb21b"
      },
      "execution_count": null,
      "outputs": [
        {
          "output_type": "stream",
          "name": "stdout",
          "text": [
            "1/1 [==============================] - 0s 42ms/step\n",
            "Tahminler: [[0.9999379  0.0000502  0.00001191]]\n",
            "Class_name_ham 0 Aslan\n",
            "\n",
            "Aslan\n",
            " 0.9999379\n"
          ]
        }
      ]
    },
    {
      "cell_type": "markdown",
      "source": [
        "#### ***HAFİZE ŞENYIL***"
      ],
      "metadata": {
        "id": "-Gwu9ahWOmsd"
      }
    },
    {
      "cell_type": "markdown",
      "source": [
        "[![GitHub](https://img.shields.io/badge/GitHub-HafizeŞenyıl-6e5494?style=flat-square&logo=github&logoColor=white)](https://github.com/hafizecim)\n",
        "\n",
        "<a href=\"https://github.com/hafizecim\" target=\"_blank\">\n",
        "  <img src=\"https://cdn.jsdelivr.net/npm/simple-icons@v9/icons/github.svg\" alt=\"GitHub\" width=\"30\" height=\"30\">\n",
        "</a>"
      ],
      "metadata": {
        "id": "kL9qTaEmNlTV"
      }
    }
  ]
}
